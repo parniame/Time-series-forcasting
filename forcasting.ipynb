{
  "nbformat": 4,
  "nbformat_minor": 0,
  "metadata": {
    "colab": {
      "provenance": [],
      "toc_visible": true,
      "mount_file_id": "1w1aCo6A1IYrCO_KeP2x5D6vdJ_TdMgdC",
      "authorship_tag": "ABX9TyOxCPjUOqFJOAti24TFU5gM",
      "include_colab_link": true
    },
    "kernelspec": {
      "name": "python3",
      "display_name": "Python 3"
    },
    "language_info": {
      "name": "python"
    }
  },
  "cells": [
    {
      "cell_type": "markdown",
      "metadata": {
        "id": "view-in-github",
        "colab_type": "text"
      },
      "source": [
        "<a href=\"https://colab.research.google.com/github/parniame/Time-series-forcasting/blob/main/forcasting.ipynb\" target=\"_parent\"><img src=\"https://colab.research.google.com/assets/colab-badge.svg\" alt=\"Open In Colab\"/></a>"
      ]
    },
    {
      "cell_type": "markdown",
      "source": [
        "# Import libraries"
      ],
      "metadata": {
        "id": "pRosZtljJr_5"
      }
    },
    {
      "cell_type": "code",
      "execution_count": 303,
      "metadata": {
        "id": "_Fvc_CYcjGwT"
      },
      "outputs": [],
      "source": [
        "import pandas as pd\n",
        "import numpy as np\n",
        "import matplotlib.pyplot as plt\n",
        "from statsmodels.graphics.tsaplots import plot_acf, plot_pacf\n",
        "from statsmodels.tsa.stattools import adfuller\n",
        "from statsmodels.tsa.arima.model import ARIMA\n",
        "from datetime import timedelta\n",
        "import warnings\n",
        "warnings.filterwarnings(\"ignore\")\n"
      ]
    },
    {
      "cell_type": "markdown",
      "source": [
        "# Read Data"
      ],
      "metadata": {
        "id": "RZYa9S3IJwx1"
      }
    },
    {
      "cell_type": "code",
      "source": [
        "#read data\n",
        "data = pd.read_csv('XAUUSD.csv')"
      ],
      "metadata": {
        "id": "gDkTUQh_jMhO"
      },
      "execution_count": null,
      "outputs": []
    },
    {
      "cell_type": "code",
      "source": [
        "data.head()"
      ],
      "metadata": {
        "id": "mQ8D07uujNib",
        "colab": {
          "base_uri": "https://localhost:8080/",
          "height": 206
        },
        "outputId": "c8e377d6-b3c2-471a-9aaf-a61248135cd5"
      },
      "execution_count": null,
      "outputs": [
        {
          "output_type": "execute_result",
          "data": {
            "text/plain": [
              "             Date     Open     High      Low    Close  Change(Pips)  Change(%)\n",
              "0   7/4/2023 0:00  1921.07  1930.22  1920.34  1929.65           858       0.44\n",
              "1   7/3/2023 0:00  1917.70  1930.50  1910.11  1921.17           347       0.18\n",
              "2   7/2/2023 0:00  1920.30  1920.30  1917.50  1917.70          -260      -0.14\n",
              "3  6/30/2023 0:00  1908.71  1922.61  1900.57  1919.20          1049       0.55\n",
              "4  6/29/2023 0:00  1909.47  1913.00  1893.16  1908.76           -71      -0.04"
            ],
            "text/html": [
              "\n",
              "  <div id=\"df-378e3a55-5e9f-4640-8159-e5cc5daa46be\">\n",
              "    <div class=\"colab-df-container\">\n",
              "      <div>\n",
              "<style scoped>\n",
              "    .dataframe tbody tr th:only-of-type {\n",
              "        vertical-align: middle;\n",
              "    }\n",
              "\n",
              "    .dataframe tbody tr th {\n",
              "        vertical-align: top;\n",
              "    }\n",
              "\n",
              "    .dataframe thead th {\n",
              "        text-align: right;\n",
              "    }\n",
              "</style>\n",
              "<table border=\"1\" class=\"dataframe\">\n",
              "  <thead>\n",
              "    <tr style=\"text-align: right;\">\n",
              "      <th></th>\n",
              "      <th>Date</th>\n",
              "      <th>Open</th>\n",
              "      <th>High</th>\n",
              "      <th>Low</th>\n",
              "      <th>Close</th>\n",
              "      <th>Change(Pips)</th>\n",
              "      <th>Change(%)</th>\n",
              "    </tr>\n",
              "  </thead>\n",
              "  <tbody>\n",
              "    <tr>\n",
              "      <th>0</th>\n",
              "      <td>7/4/2023 0:00</td>\n",
              "      <td>1921.07</td>\n",
              "      <td>1930.22</td>\n",
              "      <td>1920.34</td>\n",
              "      <td>1929.65</td>\n",
              "      <td>858</td>\n",
              "      <td>0.44</td>\n",
              "    </tr>\n",
              "    <tr>\n",
              "      <th>1</th>\n",
              "      <td>7/3/2023 0:00</td>\n",
              "      <td>1917.70</td>\n",
              "      <td>1930.50</td>\n",
              "      <td>1910.11</td>\n",
              "      <td>1921.17</td>\n",
              "      <td>347</td>\n",
              "      <td>0.18</td>\n",
              "    </tr>\n",
              "    <tr>\n",
              "      <th>2</th>\n",
              "      <td>7/2/2023 0:00</td>\n",
              "      <td>1920.30</td>\n",
              "      <td>1920.30</td>\n",
              "      <td>1917.50</td>\n",
              "      <td>1917.70</td>\n",
              "      <td>-260</td>\n",
              "      <td>-0.14</td>\n",
              "    </tr>\n",
              "    <tr>\n",
              "      <th>3</th>\n",
              "      <td>6/30/2023 0:00</td>\n",
              "      <td>1908.71</td>\n",
              "      <td>1922.61</td>\n",
              "      <td>1900.57</td>\n",
              "      <td>1919.20</td>\n",
              "      <td>1049</td>\n",
              "      <td>0.55</td>\n",
              "    </tr>\n",
              "    <tr>\n",
              "      <th>4</th>\n",
              "      <td>6/29/2023 0:00</td>\n",
              "      <td>1909.47</td>\n",
              "      <td>1913.00</td>\n",
              "      <td>1893.16</td>\n",
              "      <td>1908.76</td>\n",
              "      <td>-71</td>\n",
              "      <td>-0.04</td>\n",
              "    </tr>\n",
              "  </tbody>\n",
              "</table>\n",
              "</div>\n",
              "      <button class=\"colab-df-convert\" onclick=\"convertToInteractive('df-378e3a55-5e9f-4640-8159-e5cc5daa46be')\"\n",
              "              title=\"Convert this dataframe to an interactive table.\"\n",
              "              style=\"display:none;\">\n",
              "        \n",
              "  <svg xmlns=\"http://www.w3.org/2000/svg\" height=\"24px\"viewBox=\"0 0 24 24\"\n",
              "       width=\"24px\">\n",
              "    <path d=\"M0 0h24v24H0V0z\" fill=\"none\"/>\n",
              "    <path d=\"M18.56 5.44l.94 2.06.94-2.06 2.06-.94-2.06-.94-.94-2.06-.94 2.06-2.06.94zm-11 1L8.5 8.5l.94-2.06 2.06-.94-2.06-.94L8.5 2.5l-.94 2.06-2.06.94zm10 10l.94 2.06.94-2.06 2.06-.94-2.06-.94-.94-2.06-.94 2.06-2.06.94z\"/><path d=\"M17.41 7.96l-1.37-1.37c-.4-.4-.92-.59-1.43-.59-.52 0-1.04.2-1.43.59L10.3 9.45l-7.72 7.72c-.78.78-.78 2.05 0 2.83L4 21.41c.39.39.9.59 1.41.59.51 0 1.02-.2 1.41-.59l7.78-7.78 2.81-2.81c.8-.78.8-2.07 0-2.86zM5.41 20L4 18.59l7.72-7.72 1.47 1.35L5.41 20z\"/>\n",
              "  </svg>\n",
              "      </button>\n",
              "      \n",
              "  <style>\n",
              "    .colab-df-container {\n",
              "      display:flex;\n",
              "      flex-wrap:wrap;\n",
              "      gap: 12px;\n",
              "    }\n",
              "\n",
              "    .colab-df-convert {\n",
              "      background-color: #E8F0FE;\n",
              "      border: none;\n",
              "      border-radius: 50%;\n",
              "      cursor: pointer;\n",
              "      display: none;\n",
              "      fill: #1967D2;\n",
              "      height: 32px;\n",
              "      padding: 0 0 0 0;\n",
              "      width: 32px;\n",
              "    }\n",
              "\n",
              "    .colab-df-convert:hover {\n",
              "      background-color: #E2EBFA;\n",
              "      box-shadow: 0px 1px 2px rgba(60, 64, 67, 0.3), 0px 1px 3px 1px rgba(60, 64, 67, 0.15);\n",
              "      fill: #174EA6;\n",
              "    }\n",
              "\n",
              "    [theme=dark] .colab-df-convert {\n",
              "      background-color: #3B4455;\n",
              "      fill: #D2E3FC;\n",
              "    }\n",
              "\n",
              "    [theme=dark] .colab-df-convert:hover {\n",
              "      background-color: #434B5C;\n",
              "      box-shadow: 0px 1px 3px 1px rgba(0, 0, 0, 0.15);\n",
              "      filter: drop-shadow(0px 1px 2px rgba(0, 0, 0, 0.3));\n",
              "      fill: #FFFFFF;\n",
              "    }\n",
              "  </style>\n",
              "\n",
              "      <script>\n",
              "        const buttonEl =\n",
              "          document.querySelector('#df-378e3a55-5e9f-4640-8159-e5cc5daa46be button.colab-df-convert');\n",
              "        buttonEl.style.display =\n",
              "          google.colab.kernel.accessAllowed ? 'block' : 'none';\n",
              "\n",
              "        async function convertToInteractive(key) {\n",
              "          const element = document.querySelector('#df-378e3a55-5e9f-4640-8159-e5cc5daa46be');\n",
              "          const dataTable =\n",
              "            await google.colab.kernel.invokeFunction('convertToInteractive',\n",
              "                                                     [key], {});\n",
              "          if (!dataTable) return;\n",
              "\n",
              "          const docLinkHtml = 'Like what you see? Visit the ' +\n",
              "            '<a target=\"_blank\" href=https://colab.research.google.com/notebooks/data_table.ipynb>data table notebook</a>'\n",
              "            + ' to learn more about interactive tables.';\n",
              "          element.innerHTML = '';\n",
              "          dataTable['output_type'] = 'display_data';\n",
              "          await google.colab.output.renderOutput(dataTable, element);\n",
              "          const docLink = document.createElement('div');\n",
              "          docLink.innerHTML = docLinkHtml;\n",
              "          element.appendChild(docLink);\n",
              "        }\n",
              "      </script>\n",
              "    </div>\n",
              "  </div>\n",
              "  "
            ]
          },
          "metadata": {},
          "execution_count": 212
        }
      ]
    },
    {
      "cell_type": "markdown",
      "source": [
        "# Data prossesing"
      ],
      "metadata": {
        "id": "vEI-K1piJ2Op"
      }
    },
    {
      "cell_type": "code",
      "source": [
        "data['Date'] = pd.to_datetime(data['Date'])\n",
        "data.index = data['Date']\n",
        "data.drop(columns= ['Date'],inplace = True)\n",
        "data.head(10)"
      ],
      "metadata": {
        "id": "tDw0dKgm3N4A",
        "colab": {
          "base_uri": "https://localhost:8080/",
          "height": 394
        },
        "outputId": "111d9319-c300-4a8f-ef6a-96fb1e14a339"
      },
      "execution_count": null,
      "outputs": [
        {
          "output_type": "execute_result",
          "data": {
            "text/plain": [
              "               Open     High      Low    Close  Change(Pips)  Change(%)\n",
              "Date                                                                   \n",
              "2023-07-04  1921.07  1930.22  1920.34  1929.65           858       0.44\n",
              "2023-07-03  1917.70  1930.50  1910.11  1921.17           347       0.18\n",
              "2023-07-02  1920.30  1920.30  1917.50  1917.70          -260      -0.14\n",
              "2023-06-30  1908.71  1922.61  1900.57  1919.20          1049       0.55\n",
              "2023-06-29  1909.47  1913.00  1893.16  1908.76           -71      -0.04\n",
              "2023-06-28  1915.26  1916.98  1903.46  1909.58          -568      -0.30\n",
              "2023-06-27  1922.57  1930.04  1910.60  1915.39          -718      -0.37\n",
              "2023-06-26  1925.22  1933.18  1920.40  1922.28          -294      -0.15\n",
              "2023-06-25  1927.30  1927.30  1920.51  1925.29          -201      -0.10\n",
              "2023-06-23  1914.47  1936.57  1910.20  1920.79           632       0.33"
            ],
            "text/html": [
              "\n",
              "  <div id=\"df-b37fb3f0-92dc-4976-a3db-a1932d775bb7\">\n",
              "    <div class=\"colab-df-container\">\n",
              "      <div>\n",
              "<style scoped>\n",
              "    .dataframe tbody tr th:only-of-type {\n",
              "        vertical-align: middle;\n",
              "    }\n",
              "\n",
              "    .dataframe tbody tr th {\n",
              "        vertical-align: top;\n",
              "    }\n",
              "\n",
              "    .dataframe thead th {\n",
              "        text-align: right;\n",
              "    }\n",
              "</style>\n",
              "<table border=\"1\" class=\"dataframe\">\n",
              "  <thead>\n",
              "    <tr style=\"text-align: right;\">\n",
              "      <th></th>\n",
              "      <th>Open</th>\n",
              "      <th>High</th>\n",
              "      <th>Low</th>\n",
              "      <th>Close</th>\n",
              "      <th>Change(Pips)</th>\n",
              "      <th>Change(%)</th>\n",
              "    </tr>\n",
              "    <tr>\n",
              "      <th>Date</th>\n",
              "      <th></th>\n",
              "      <th></th>\n",
              "      <th></th>\n",
              "      <th></th>\n",
              "      <th></th>\n",
              "      <th></th>\n",
              "    </tr>\n",
              "  </thead>\n",
              "  <tbody>\n",
              "    <tr>\n",
              "      <th>2023-07-04</th>\n",
              "      <td>1921.07</td>\n",
              "      <td>1930.22</td>\n",
              "      <td>1920.34</td>\n",
              "      <td>1929.65</td>\n",
              "      <td>858</td>\n",
              "      <td>0.44</td>\n",
              "    </tr>\n",
              "    <tr>\n",
              "      <th>2023-07-03</th>\n",
              "      <td>1917.70</td>\n",
              "      <td>1930.50</td>\n",
              "      <td>1910.11</td>\n",
              "      <td>1921.17</td>\n",
              "      <td>347</td>\n",
              "      <td>0.18</td>\n",
              "    </tr>\n",
              "    <tr>\n",
              "      <th>2023-07-02</th>\n",
              "      <td>1920.30</td>\n",
              "      <td>1920.30</td>\n",
              "      <td>1917.50</td>\n",
              "      <td>1917.70</td>\n",
              "      <td>-260</td>\n",
              "      <td>-0.14</td>\n",
              "    </tr>\n",
              "    <tr>\n",
              "      <th>2023-06-30</th>\n",
              "      <td>1908.71</td>\n",
              "      <td>1922.61</td>\n",
              "      <td>1900.57</td>\n",
              "      <td>1919.20</td>\n",
              "      <td>1049</td>\n",
              "      <td>0.55</td>\n",
              "    </tr>\n",
              "    <tr>\n",
              "      <th>2023-06-29</th>\n",
              "      <td>1909.47</td>\n",
              "      <td>1913.00</td>\n",
              "      <td>1893.16</td>\n",
              "      <td>1908.76</td>\n",
              "      <td>-71</td>\n",
              "      <td>-0.04</td>\n",
              "    </tr>\n",
              "    <tr>\n",
              "      <th>2023-06-28</th>\n",
              "      <td>1915.26</td>\n",
              "      <td>1916.98</td>\n",
              "      <td>1903.46</td>\n",
              "      <td>1909.58</td>\n",
              "      <td>-568</td>\n",
              "      <td>-0.30</td>\n",
              "    </tr>\n",
              "    <tr>\n",
              "      <th>2023-06-27</th>\n",
              "      <td>1922.57</td>\n",
              "      <td>1930.04</td>\n",
              "      <td>1910.60</td>\n",
              "      <td>1915.39</td>\n",
              "      <td>-718</td>\n",
              "      <td>-0.37</td>\n",
              "    </tr>\n",
              "    <tr>\n",
              "      <th>2023-06-26</th>\n",
              "      <td>1925.22</td>\n",
              "      <td>1933.18</td>\n",
              "      <td>1920.40</td>\n",
              "      <td>1922.28</td>\n",
              "      <td>-294</td>\n",
              "      <td>-0.15</td>\n",
              "    </tr>\n",
              "    <tr>\n",
              "      <th>2023-06-25</th>\n",
              "      <td>1927.30</td>\n",
              "      <td>1927.30</td>\n",
              "      <td>1920.51</td>\n",
              "      <td>1925.29</td>\n",
              "      <td>-201</td>\n",
              "      <td>-0.10</td>\n",
              "    </tr>\n",
              "    <tr>\n",
              "      <th>2023-06-23</th>\n",
              "      <td>1914.47</td>\n",
              "      <td>1936.57</td>\n",
              "      <td>1910.20</td>\n",
              "      <td>1920.79</td>\n",
              "      <td>632</td>\n",
              "      <td>0.33</td>\n",
              "    </tr>\n",
              "  </tbody>\n",
              "</table>\n",
              "</div>\n",
              "      <button class=\"colab-df-convert\" onclick=\"convertToInteractive('df-b37fb3f0-92dc-4976-a3db-a1932d775bb7')\"\n",
              "              title=\"Convert this dataframe to an interactive table.\"\n",
              "              style=\"display:none;\">\n",
              "        \n",
              "  <svg xmlns=\"http://www.w3.org/2000/svg\" height=\"24px\"viewBox=\"0 0 24 24\"\n",
              "       width=\"24px\">\n",
              "    <path d=\"M0 0h24v24H0V0z\" fill=\"none\"/>\n",
              "    <path d=\"M18.56 5.44l.94 2.06.94-2.06 2.06-.94-2.06-.94-.94-2.06-.94 2.06-2.06.94zm-11 1L8.5 8.5l.94-2.06 2.06-.94-2.06-.94L8.5 2.5l-.94 2.06-2.06.94zm10 10l.94 2.06.94-2.06 2.06-.94-2.06-.94-.94-2.06-.94 2.06-2.06.94z\"/><path d=\"M17.41 7.96l-1.37-1.37c-.4-.4-.92-.59-1.43-.59-.52 0-1.04.2-1.43.59L10.3 9.45l-7.72 7.72c-.78.78-.78 2.05 0 2.83L4 21.41c.39.39.9.59 1.41.59.51 0 1.02-.2 1.41-.59l7.78-7.78 2.81-2.81c.8-.78.8-2.07 0-2.86zM5.41 20L4 18.59l7.72-7.72 1.47 1.35L5.41 20z\"/>\n",
              "  </svg>\n",
              "      </button>\n",
              "      \n",
              "  <style>\n",
              "    .colab-df-container {\n",
              "      display:flex;\n",
              "      flex-wrap:wrap;\n",
              "      gap: 12px;\n",
              "    }\n",
              "\n",
              "    .colab-df-convert {\n",
              "      background-color: #E8F0FE;\n",
              "      border: none;\n",
              "      border-radius: 50%;\n",
              "      cursor: pointer;\n",
              "      display: none;\n",
              "      fill: #1967D2;\n",
              "      height: 32px;\n",
              "      padding: 0 0 0 0;\n",
              "      width: 32px;\n",
              "    }\n",
              "\n",
              "    .colab-df-convert:hover {\n",
              "      background-color: #E2EBFA;\n",
              "      box-shadow: 0px 1px 2px rgba(60, 64, 67, 0.3), 0px 1px 3px 1px rgba(60, 64, 67, 0.15);\n",
              "      fill: #174EA6;\n",
              "    }\n",
              "\n",
              "    [theme=dark] .colab-df-convert {\n",
              "      background-color: #3B4455;\n",
              "      fill: #D2E3FC;\n",
              "    }\n",
              "\n",
              "    [theme=dark] .colab-df-convert:hover {\n",
              "      background-color: #434B5C;\n",
              "      box-shadow: 0px 1px 3px 1px rgba(0, 0, 0, 0.15);\n",
              "      filter: drop-shadow(0px 1px 2px rgba(0, 0, 0, 0.3));\n",
              "      fill: #FFFFFF;\n",
              "    }\n",
              "  </style>\n",
              "\n",
              "      <script>\n",
              "        const buttonEl =\n",
              "          document.querySelector('#df-b37fb3f0-92dc-4976-a3db-a1932d775bb7 button.colab-df-convert');\n",
              "        buttonEl.style.display =\n",
              "          google.colab.kernel.accessAllowed ? 'block' : 'none';\n",
              "\n",
              "        async function convertToInteractive(key) {\n",
              "          const element = document.querySelector('#df-b37fb3f0-92dc-4976-a3db-a1932d775bb7');\n",
              "          const dataTable =\n",
              "            await google.colab.kernel.invokeFunction('convertToInteractive',\n",
              "                                                     [key], {});\n",
              "          if (!dataTable) return;\n",
              "\n",
              "          const docLinkHtml = 'Like what you see? Visit the ' +\n",
              "            '<a target=\"_blank\" href=https://colab.research.google.com/notebooks/data_table.ipynb>data table notebook</a>'\n",
              "            + ' to learn more about interactive tables.';\n",
              "          element.innerHTML = '';\n",
              "          dataTable['output_type'] = 'display_data';\n",
              "          await google.colab.output.renderOutput(dataTable, element);\n",
              "          const docLink = document.createElement('div');\n",
              "          docLink.innerHTML = docLinkHtml;\n",
              "          element.appendChild(docLink);\n",
              "        }\n",
              "      </script>\n",
              "    </div>\n",
              "  </div>\n",
              "  "
            ]
          },
          "metadata": {},
          "execution_count": 213
        }
      ]
    },
    {
      "cell_type": "code",
      "source": [
        "data.info()"
      ],
      "metadata": {
        "colab": {
          "base_uri": "https://localhost:8080/"
        },
        "id": "sawrM1xx71Qy",
        "outputId": "9d2e3a0b-3c78-48e2-8e73-b1ae73be91e3"
      },
      "execution_count": null,
      "outputs": [
        {
          "output_type": "stream",
          "name": "stdout",
          "text": [
            "<class 'pandas.core.frame.DataFrame'>\n",
            "DatetimeIndex: 622 entries, 2023-07-04 to 2021-07-04\n",
            "Data columns (total 6 columns):\n",
            " #   Column        Non-Null Count  Dtype  \n",
            "---  ------        --------------  -----  \n",
            " 0   Open          622 non-null    float64\n",
            " 1   High          622 non-null    float64\n",
            " 2   Low           622 non-null    float64\n",
            " 3   Close         622 non-null    float64\n",
            " 4   Change(Pips)  622 non-null    int64  \n",
            " 5   Change(%)     622 non-null    float64\n",
            "dtypes: float64(5), int64(1)\n",
            "memory usage: 34.0 KB\n"
          ]
        }
      ]
    },
    {
      "cell_type": "markdown",
      "source": [
        "# Convert to regular time series"
      ],
      "metadata": {
        "id": "gy6QI_VToDI5"
      }
    },
    {
      "cell_type": "markdown",
      "source": [
        "Note :dataset is not containing regular/daily data, We can use just monthly avg data. That will give us  regular data."
      ],
      "metadata": {
        "id": "CxEV4W-oOuTo"
      }
    },
    {
      "cell_type": "code",
      "source": [
        "data = data.resample('m').mean()\n",
        "data.shape"
      ],
      "metadata": {
        "colab": {
          "base_uri": "https://localhost:8080/"
        },
        "id": "iTFRfY8q9L2t",
        "outputId": "77d0a108-cfda-4fbb-9e00-7e90f5113460"
      },
      "execution_count": null,
      "outputs": [
        {
          "output_type": "execute_result",
          "data": {
            "text/plain": [
              "(25, 6)"
            ]
          },
          "metadata": {},
          "execution_count": 215
        }
      ]
    },
    {
      "cell_type": "code",
      "source": [
        "data.isna().sum()"
      ],
      "metadata": {
        "colab": {
          "base_uri": "https://localhost:8080/"
        },
        "id": "bDLO91ZV97ai",
        "outputId": "1dc1aff0-7188-4fca-8e03-be142630de23"
      },
      "execution_count": null,
      "outputs": [
        {
          "output_type": "execute_result",
          "data": {
            "text/plain": [
              "Open            0\n",
              "High            0\n",
              "Low             0\n",
              "Close           0\n",
              "Change(Pips)    0\n",
              "Change(%)       0\n",
              "dtype: int64"
            ]
          },
          "metadata": {},
          "execution_count": 216
        }
      ]
    },
    {
      "cell_type": "code",
      "source": [
        "data.head()"
      ],
      "metadata": {
        "colab": {
          "base_uri": "https://localhost:8080/",
          "height": 237
        },
        "id": "DDj8X02zA_I5",
        "outputId": "8dd2c4e8-0d81-4927-c3b9-14c88c1e9a6f"
      },
      "execution_count": null,
      "outputs": [
        {
          "output_type": "execute_result",
          "data": {
            "text/plain": [
              "                   Open         High          Low        Close  Change(Pips)  \\\n",
              "Date                                                                           \n",
              "2021-07-31  1806.070000  1814.512500  1798.400417  1807.131250    106.125000   \n",
              "2021-08-31  1785.374074  1794.892593  1773.330370  1785.393704      1.962963   \n",
              "2021-09-30  1780.585000  1789.510000  1769.835000  1778.029615   -255.538462   \n",
              "2021-10-31  1774.471923  1784.048462  1766.313462  1775.497692    102.576923   \n",
              "2021-11-30  1819.928800  1830.565200  1808.555200  1819.414400    -51.440000   \n",
              "\n",
              "            Change(%)  \n",
              "Date                   \n",
              "2021-07-31   0.057083  \n",
              "2021-08-31  -0.004074  \n",
              "2021-09-30  -0.146154  \n",
              "2021-10-31   0.056154  \n",
              "2021-11-30  -0.031200  "
            ],
            "text/html": [
              "\n",
              "  <div id=\"df-77f99e31-a47d-4016-a421-6f42400a4311\">\n",
              "    <div class=\"colab-df-container\">\n",
              "      <div>\n",
              "<style scoped>\n",
              "    .dataframe tbody tr th:only-of-type {\n",
              "        vertical-align: middle;\n",
              "    }\n",
              "\n",
              "    .dataframe tbody tr th {\n",
              "        vertical-align: top;\n",
              "    }\n",
              "\n",
              "    .dataframe thead th {\n",
              "        text-align: right;\n",
              "    }\n",
              "</style>\n",
              "<table border=\"1\" class=\"dataframe\">\n",
              "  <thead>\n",
              "    <tr style=\"text-align: right;\">\n",
              "      <th></th>\n",
              "      <th>Open</th>\n",
              "      <th>High</th>\n",
              "      <th>Low</th>\n",
              "      <th>Close</th>\n",
              "      <th>Change(Pips)</th>\n",
              "      <th>Change(%)</th>\n",
              "    </tr>\n",
              "    <tr>\n",
              "      <th>Date</th>\n",
              "      <th></th>\n",
              "      <th></th>\n",
              "      <th></th>\n",
              "      <th></th>\n",
              "      <th></th>\n",
              "      <th></th>\n",
              "    </tr>\n",
              "  </thead>\n",
              "  <tbody>\n",
              "    <tr>\n",
              "      <th>2021-07-31</th>\n",
              "      <td>1806.070000</td>\n",
              "      <td>1814.512500</td>\n",
              "      <td>1798.400417</td>\n",
              "      <td>1807.131250</td>\n",
              "      <td>106.125000</td>\n",
              "      <td>0.057083</td>\n",
              "    </tr>\n",
              "    <tr>\n",
              "      <th>2021-08-31</th>\n",
              "      <td>1785.374074</td>\n",
              "      <td>1794.892593</td>\n",
              "      <td>1773.330370</td>\n",
              "      <td>1785.393704</td>\n",
              "      <td>1.962963</td>\n",
              "      <td>-0.004074</td>\n",
              "    </tr>\n",
              "    <tr>\n",
              "      <th>2021-09-30</th>\n",
              "      <td>1780.585000</td>\n",
              "      <td>1789.510000</td>\n",
              "      <td>1769.835000</td>\n",
              "      <td>1778.029615</td>\n",
              "      <td>-255.538462</td>\n",
              "      <td>-0.146154</td>\n",
              "    </tr>\n",
              "    <tr>\n",
              "      <th>2021-10-31</th>\n",
              "      <td>1774.471923</td>\n",
              "      <td>1784.048462</td>\n",
              "      <td>1766.313462</td>\n",
              "      <td>1775.497692</td>\n",
              "      <td>102.576923</td>\n",
              "      <td>0.056154</td>\n",
              "    </tr>\n",
              "    <tr>\n",
              "      <th>2021-11-30</th>\n",
              "      <td>1819.928800</td>\n",
              "      <td>1830.565200</td>\n",
              "      <td>1808.555200</td>\n",
              "      <td>1819.414400</td>\n",
              "      <td>-51.440000</td>\n",
              "      <td>-0.031200</td>\n",
              "    </tr>\n",
              "  </tbody>\n",
              "</table>\n",
              "</div>\n",
              "      <button class=\"colab-df-convert\" onclick=\"convertToInteractive('df-77f99e31-a47d-4016-a421-6f42400a4311')\"\n",
              "              title=\"Convert this dataframe to an interactive table.\"\n",
              "              style=\"display:none;\">\n",
              "        \n",
              "  <svg xmlns=\"http://www.w3.org/2000/svg\" height=\"24px\"viewBox=\"0 0 24 24\"\n",
              "       width=\"24px\">\n",
              "    <path d=\"M0 0h24v24H0V0z\" fill=\"none\"/>\n",
              "    <path d=\"M18.56 5.44l.94 2.06.94-2.06 2.06-.94-2.06-.94-.94-2.06-.94 2.06-2.06.94zm-11 1L8.5 8.5l.94-2.06 2.06-.94-2.06-.94L8.5 2.5l-.94 2.06-2.06.94zm10 10l.94 2.06.94-2.06 2.06-.94-2.06-.94-.94-2.06-.94 2.06-2.06.94z\"/><path d=\"M17.41 7.96l-1.37-1.37c-.4-.4-.92-.59-1.43-.59-.52 0-1.04.2-1.43.59L10.3 9.45l-7.72 7.72c-.78.78-.78 2.05 0 2.83L4 21.41c.39.39.9.59 1.41.59.51 0 1.02-.2 1.41-.59l7.78-7.78 2.81-2.81c.8-.78.8-2.07 0-2.86zM5.41 20L4 18.59l7.72-7.72 1.47 1.35L5.41 20z\"/>\n",
              "  </svg>\n",
              "      </button>\n",
              "      \n",
              "  <style>\n",
              "    .colab-df-container {\n",
              "      display:flex;\n",
              "      flex-wrap:wrap;\n",
              "      gap: 12px;\n",
              "    }\n",
              "\n",
              "    .colab-df-convert {\n",
              "      background-color: #E8F0FE;\n",
              "      border: none;\n",
              "      border-radius: 50%;\n",
              "      cursor: pointer;\n",
              "      display: none;\n",
              "      fill: #1967D2;\n",
              "      height: 32px;\n",
              "      padding: 0 0 0 0;\n",
              "      width: 32px;\n",
              "    }\n",
              "\n",
              "    .colab-df-convert:hover {\n",
              "      background-color: #E2EBFA;\n",
              "      box-shadow: 0px 1px 2px rgba(60, 64, 67, 0.3), 0px 1px 3px 1px rgba(60, 64, 67, 0.15);\n",
              "      fill: #174EA6;\n",
              "    }\n",
              "\n",
              "    [theme=dark] .colab-df-convert {\n",
              "      background-color: #3B4455;\n",
              "      fill: #D2E3FC;\n",
              "    }\n",
              "\n",
              "    [theme=dark] .colab-df-convert:hover {\n",
              "      background-color: #434B5C;\n",
              "      box-shadow: 0px 1px 3px 1px rgba(0, 0, 0, 0.15);\n",
              "      filter: drop-shadow(0px 1px 2px rgba(0, 0, 0, 0.3));\n",
              "      fill: #FFFFFF;\n",
              "    }\n",
              "  </style>\n",
              "\n",
              "      <script>\n",
              "        const buttonEl =\n",
              "          document.querySelector('#df-77f99e31-a47d-4016-a421-6f42400a4311 button.colab-df-convert');\n",
              "        buttonEl.style.display =\n",
              "          google.colab.kernel.accessAllowed ? 'block' : 'none';\n",
              "\n",
              "        async function convertToInteractive(key) {\n",
              "          const element = document.querySelector('#df-77f99e31-a47d-4016-a421-6f42400a4311');\n",
              "          const dataTable =\n",
              "            await google.colab.kernel.invokeFunction('convertToInteractive',\n",
              "                                                     [key], {});\n",
              "          if (!dataTable) return;\n",
              "\n",
              "          const docLinkHtml = 'Like what you see? Visit the ' +\n",
              "            '<a target=\"_blank\" href=https://colab.research.google.com/notebooks/data_table.ipynb>data table notebook</a>'\n",
              "            + ' to learn more about interactive tables.';\n",
              "          element.innerHTML = '';\n",
              "          dataTable['output_type'] = 'display_data';\n",
              "          await google.colab.output.renderOutput(dataTable, element);\n",
              "          const docLink = document.createElement('div');\n",
              "          docLink.innerHTML = docLinkHtml;\n",
              "          element.appendChild(docLink);\n",
              "        }\n",
              "      </script>\n",
              "    </div>\n",
              "  </div>\n",
              "  "
            ]
          },
          "metadata": {},
          "execution_count": 217
        }
      ]
    },
    {
      "cell_type": "markdown",
      "source": [
        "# Stationarity"
      ],
      "metadata": {
        "id": "tXV5Wo4pKA9B"
      }
    },
    {
      "cell_type": "code",
      "source": [
        "plt.figure(figsize=(10,4))\n",
        "plt.plot(data.Close)\n",
        "plt.title('Gold Price over Time ', fontsize=20)\n",
        "plt.ylabel('Price', fontsize=16);\n"
      ],
      "metadata": {
        "colab": {
          "base_uri": "https://localhost:8080/",
          "height": 399
        },
        "id": "47DsMqaUD78_",
        "outputId": "0c87d555-000a-4b44-cc65-bd27e8d08db1"
      },
      "execution_count": null,
      "outputs": [
        {
          "output_type": "display_data",
          "data": {
            "text/plain": [
              "<Figure size 1000x400 with 1 Axes>"
            ],
            "image/png": "[encoded data removed]"
          },
          "metadata": {}
        }
      ]
    },
    {
      "cell_type": "code",
      "source": [
        "# Check stationarity\n",
        "result = adfuller(data.Close)\n",
        "print('ADF Statistic: {}'.format(result[0]))\n",
        "print('p-value: {}'.format(result[1]))\n",
        "print('Critical Values: ')\n",
        "for key, value in result[4].items():\n",
        "  print('\\t{0}: {1}'.format(key, round(value, 3)))\n"
      ],
      "metadata": {
        "colab": {
          "base_uri": "https://localhost:8080/"
        },
        "id": "sDxzO7mhQsnA",
        "outputId": "1c6bef57-15cc-4b37-a3e4-6e9e6d933a47"
      },
      "execution_count": null,
      "outputs": [
        {
          "output_type": "stream",
          "name": "stdout",
          "text": [
            "ADF Statistic: -3.7920129251996237\n",
            "p-value: 0.002990098521212137\n",
            "Critical Values: \n",
            "\t1%: -3.833\n",
            "\t5%: -3.031\n",
            "\t10%: -2.656\n"
          ]
        }
      ]
    },
    {
      "cell_type": "markdown",
      "source": [
        "Note : it can be observed that the ADF statistic is negetiver than the 5% critical values.so data is stationary.\n",
        "\n",
        "\n",
        "\n",
        "*   P-value ≤ Significance level = 0.05\n",
        "*   Test statistic ≤ critical value\n",
        "\n",
        "\n",
        "\n",
        "\n"
      ],
      "metadata": {
        "id": "_v3HisWlHEzQ"
      }
    },
    {
      "cell_type": "markdown",
      "source": [
        "Note : d = 0"
      ],
      "metadata": {
        "id": "T6XaBfshBDGQ"
      }
    },
    {
      "cell_type": "markdown",
      "source": [
        "# Get MA & AR Parameters based on ACF and PACF plots"
      ],
      "metadata": {
        "id": "xY4a5ktGKUtC"
      }
    },
    {
      "cell_type": "code",
      "source": [
        "fix , ax = plt.subplots()\n",
        "acf_plot = plot_acf(data['Close'],ax = ax,lags = 14);"
      ],
      "metadata": {
        "colab": {
          "base_uri": "https://localhost:8080/",
          "height": 452
        },
        "id": "pmeVTzF5GjY1",
        "outputId": "ae556b4c-04e2-4422-c67f-0d3ad676c030"
      },
      "execution_count": null,
      "outputs": [
        {
          "output_type": "display_data",
          "data": {
            "text/plain": [
              "<Figure size 640x480 with 1 Axes>"
            ],
            "image/png": "[encoded data removed]"
          },
          "metadata": {}
        }
      ]
    },
    {
      "cell_type": "markdown",
      "source": [
        "Note : Based on ACF, we should start with a  MA(1) process\n",
        "q = 1"
      ],
      "metadata": {
        "id": "HntzJsCxI9nD"
      }
    },
    {
      "cell_type": "code",
      "source": [
        "pacf_plot = plot_pacf(data['Close'],lags = 11);"
      ],
      "metadata": {
        "colab": {
          "base_uri": "https://localhost:8080/",
          "height": 452
        },
        "id": "Tx2wjAVHG194",
        "outputId": "1b5da74f-47c9-4f16-8998-625b32a45005"
      },
      "execution_count": 304,
      "outputs": [
        {
          "output_type": "display_data",
          "data": {
            "text/plain": [
              "<Figure size 640x480 with 1 Axes>"
            ],
            "image/png": "[encoded data removed]"
          },
          "metadata": {}
        }
      ]
    },
    {
      "cell_type": "markdown",
      "source": [
        "Note : Based on PACF, we should start with a AR(1) process\n",
        "p = 1"
      ],
      "metadata": {
        "id": "2vrTiC4TJXav"
      }
    },
    {
      "cell_type": "markdown",
      "source": [
        "# Split train & test set"
      ],
      "metadata": {
        "id": "bpkKoGb-JjgA"
      }
    },
    {
      "cell_type": "code",
      "source": [
        "#Size of data\n",
        "data.index = pd.DatetimeIndex(data.index)\n",
        "data_ = data['Close']\n",
        "\n",
        "Number_Elements = len(data_)\n",
        "\n",
        "#Use 70% of data as training, rest 30% to Test model\n",
        "train_size = int(Number_Elements * 0.7)\n",
        "train_data = data_[0:train_size]\n",
        "test_data = data_[train_size:Number_Elements]\n",
        "train_data.shape"
      ],
      "metadata": {
        "id": "harM--_xN1hD",
        "colab": {
          "base_uri": "https://localhost:8080/"
        },
        "outputId": "929ea43f-cd04-4744-fae7-e963da472667"
      },
      "execution_count": null,
      "outputs": [
        {
          "output_type": "execute_result",
          "data": {
            "text/plain": [
              "(17,)"
            ]
          },
          "metadata": {},
          "execution_count": 222
        }
      ]
    },
    {
      "cell_type": "markdown",
      "source": [
        "# Fit ARIMA Model"
      ],
      "metadata": {
        "id": "iP-qJDYWwa--"
      }
    },
    {
      "cell_type": "code",
      "source": [
        "models = []\n",
        "for i in [1,6,9,11]:\n",
        "  #create the model\n",
        "  model = ARIMA(train_data, order=(i,0,1))\n",
        "  #fit the model\n",
        "  model_fit = model.fit()\n",
        "  models.append(model_fit)\n",
        "  print('AIC at lag %d :'%(i),model_fit.aic)\n",
        "  print('----')\n",
        "model_fit = models[1]"
      ],
      "metadata": {
        "colab": {
          "base_uri": "https://localhost:8080/"
        },
        "id": "NWPGrU9jKqWj",
        "outputId": "a441f76c-2916-49c4-d7d2-4d749f2331cf"
      },
      "execution_count": null,
      "outputs": [
        {
          "output_type": "stream",
          "name": "stdout",
          "text": [
            "AIC at lag 1 : 266.8499840192459\n",
            "----\n",
            "AIC at lag 6 : 256.63958165874556\n",
            "----\n",
            "AIC at lag 9 : 262.77527590004314\n",
            "----\n",
            "AIC at lag 11 : 263.7792988118717\n",
            "----\n"
          ]
        }
      ]
    },
    {
      "cell_type": "markdown",
      "source": [
        "Note : the lowest AIC is at lag 6, p =6"
      ],
      "metadata": {
        "id": "1oTtwUPfQhOu"
      }
    },
    {
      "cell_type": "markdown",
      "source": [
        "# Prediction"
      ],
      "metadata": {
        "id": "ln_dpSvjeNMf"
      }
    },
    {
      "cell_type": "code",
      "source": [
        "#get prediction start and end dates\n",
        "pred_start_date = test_data.index[0]\n",
        "pred_end_date = test_data.index[-1]\n",
        "#get the predictions and residuals\n",
        "predictions = model_fit.predict(start=pred_start_date, end=pred_end_date)"
      ],
      "metadata": {
        "id": "0Tj-ahvoR2rP"
      },
      "execution_count": null,
      "outputs": []
    },
    {
      "cell_type": "markdown",
      "source": [
        "# Evaluate"
      ],
      "metadata": {
        "id": "ktj5S7t_thNA"
      }
    },
    {
      "cell_type": "code",
      "source": [
        "residuals = test_data - predictions\n",
        "plt.figure(figsize=(10,4))\n",
        "plt.plot(residuals)\n",
        "plt.axhline(0, linestyle='--', color='k')\n",
        "plt.title('Residuals from ARIMA Model', fontsize=20)\n",
        "plt.ylabel('Error', fontsize=16);\n"
      ],
      "metadata": {
        "colab": {
          "base_uri": "https://localhost:8080/",
          "height": 399
        },
        "id": "c4x19v1UeTTv",
        "outputId": "725fe4fb-d379-411b-de01-89f191d38b38"
      },
      "execution_count": null,
      "outputs": [
        {
          "output_type": "display_data",
          "data": {
            "text/plain": [
              "<Figure size 1000x400 with 1 Axes>"
            ],
            "image/png": "[encoded data removed]"
          },
          "metadata": {}
        }
      ]
    },
    {
      "cell_type": "code",
      "source": [
        "plt.figure(figsize=(10,4))\n",
        "plt.plot(data_)\n",
        "plt.plot(predictions)\n",
        "plt.legend(('Data', 'Predictions'), fontsize=16)\n",
        "start_year = data_.index[0].year\n",
        "end_year = data_.index[-1].year\n",
        "for year in range(start_year,end_year+1):\n",
        "    plt.axvline(pd.to_datetime(str(year)+'-07-31'), color='k', linestyle='--', alpha=0.2);"
      ],
      "metadata": {
        "colab": {
          "base_uri": "https://localhost:8080/",
          "height": 368
        },
        "id": "JH2rNDlWUin_",
        "outputId": "c5f5b827-2539-4402-c4f8-5f50f3858c6e"
      },
      "execution_count": null,
      "outputs": [
        {
          "output_type": "display_data",
          "data": {
            "text/plain": [
              "<Figure size 1000x400 with 1 Axes>"
            ],
            "image/png": "[encoded data removed]"
          },
          "metadata": {}
        }
      ]
    },
    {
      "cell_type": "code",
      "source": [
        "print('Mean Absolute Percent Error:', (np.mean(abs(residuals/test_data)*100)))"
      ],
      "metadata": {
        "colab": {
          "base_uri": "https://localhost:8080/"
        },
        "id": "ZwflK0BzQr5M",
        "outputId": "042fb3af-85bd-4f68-dfe2-513ab3b526a9"
      },
      "execution_count": null,
      "outputs": [
        {
          "output_type": "stream",
          "name": "stdout",
          "text": [
            "Mean Absolute Percent Error: 1.7522427834906618\n"
          ]
        }
      ]
    },
    {
      "cell_type": "code",
      "source": [
        "print('Root Mean Squared Error:', np.sqrt(np.mean(residuals**2)))"
      ],
      "metadata": {
        "colab": {
          "base_uri": "https://localhost:8080/"
        },
        "id": "ozgc8DwXRx-M",
        "outputId": "7da35599-07db-46b7-f510-dccac3b2dd26"
      },
      "execution_count": null,
      "outputs": [
        {
          "output_type": "stream",
          "name": "stdout",
          "text": [
            "Root Mean Squared Error: 49.698413581910266\n"
          ]
        }
      ]
    }
  ]
}
